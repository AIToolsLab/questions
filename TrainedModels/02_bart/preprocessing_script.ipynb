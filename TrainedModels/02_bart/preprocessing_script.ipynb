{
 "cells": [
  {
   "cell_type": "code",
   "execution_count": 1,
   "id": "30353f4d",
   "metadata": {},
   "outputs": [],
   "source": [
    "from sacremoses import MosesDetokenizer, MosesTokenizer\n",
    "import pandas as pd\n",
    "import csv\n"
   ]
  },
  {
   "cell_type": "code",
   "execution_count": 2,
   "id": "1fe1564b",
   "metadata": {},
   "outputs": [
    {
     "name": "stderr",
     "output_type": "stream",
     "text": [
      "/var/folders/kt/nshm9j555pn7z_t0hxzy3v4h0000gn/T/ipykernel_8020/4041008024.py:1: FutureWarning: The warn_bad_lines argument has been deprecated and will be removed in a future version. Use on_bad_lines in the future.\n",
      "\n",
      "\n",
      "  data = pd.read_csv('data/questions.tsv', sep='\\t', engine='python', warn_bad_lines=True, quoting=csv.QUOTE_NONE)\n"
     ]
    }
   ],
   "source": [
    "data = pd.read_csv('data/questions.tsv', sep='\\t', engine='python', warn_bad_lines=True, quoting=csv.QUOTE_NONE)"
   ]
  },
  {
   "cell_type": "code",
   "execution_count": 3,
   "id": "53851551",
   "metadata": {},
   "outputs": [],
   "source": [
    "md = MosesDetokenizer(lang='en')\n",
    "mt = MosesTokenizer(lang='en')"
   ]
  },
  {
   "cell_type": "code",
   "execution_count": 4,
   "id": "47c90ac9",
   "metadata": {},
   "outputs": [],
   "source": [
    "def moses_tokenize(sentence):\n",
    "    return mt.tokenize(sentence)"
   ]
  },
  {
   "cell_type": "code",
   "execution_count": 5,
   "id": "610338f2",
   "metadata": {},
   "outputs": [],
   "source": [
    "def moses_detokenize(sentence):\n",
    "    return md.detokenize(sentence)"
   ]
  },
  {
   "cell_type": "code",
   "execution_count": 6,
   "id": "2025f47a",
   "metadata": {},
   "outputs": [],
   "source": [
    "def dumb_quotes(x):\n",
    "    return (x\n",
    "        .replace('\\u201c', '\"').replace('\\u201d', '\"') # double quotes\n",
    "        .replace('\\u2018', \"'\").replace('\\u2019', \"'\") # single quotes\n",
    "    )"
   ]
  },
  {
   "cell_type": "code",
   "execution_count": 7,
   "id": "e2a3e26b",
   "metadata": {},
   "outputs": [],
   "source": [
    "def dumb_spaces(sentence):\n",
    "    return (sentence\n",
    "            .replace(\" ' \", \"'\")\n",
    "            .replace(\" - \", \"-\"))"
   ]
  },
  {
   "cell_type": "code",
   "execution_count": 8,
   "id": "57a81bcd",
   "metadata": {},
   "outputs": [
    {
     "data": {
      "text/plain": [
       "'The nation ’ s largest gun - rights group is taking some Texans to task over their headline - generating demonstrations advocating the legal , open carrying of weapons .'"
      ]
     },
     "execution_count": 8,
     "metadata": {},
     "output_type": "execute_result"
    }
   ],
   "source": [
    "example = data['Sentence'][0]\n",
    "example"
   ]
  },
  {
   "cell_type": "code",
   "execution_count": 9,
   "id": "336fbc91",
   "metadata": {},
   "outputs": [
    {
     "name": "stdout",
     "output_type": "stream",
     "text": [
      "Get rid of extra spaces: The nation's largest gun-rights group is taking some Texans to task over their headline-generating demonstrations advocating the legal , open carrying of weapons .\n",
      "Tokenize: ['The', 'nation', '&apos;s', 'largest', 'gun-rights', 'group', 'is', 'taking', 'some', 'Texans', 'to', 'task', 'over', 'their', 'headline-generating', 'demonstrations', 'advocating', 'the', 'legal', ',', 'open', 'carrying', 'of', 'weapons', '.']\n",
      "Detokenized: The nation's largest gun-rights group is taking some Texans to task over their headline-generating demonstrations advocating the legal, open carrying of weapons.\n"
     ]
    }
   ],
   "source": [
    "space_ctrl = dumb_spaces(dumb_quotes(example))\n",
    "mtok = moses_tokenize(space_ctrl)\n",
    "print(f\"Get rid of extra spaces: {space_ctrl}\")\n",
    "print(f\"Tokenize: {mtok}\")\n",
    "print(f\"Detokenized: {moses_detokenize(mtok)}\")"
   ]
  },
  {
   "cell_type": "code",
   "execution_count": 10,
   "id": "ff253266",
   "metadata": {},
   "outputs": [
    {
     "data": {
      "text/plain": [
       "b'The nation \\\\u2019 s largest gun - rights group is taking some Texans to task over their headline - generating demonstrations advocating the legal , open carrying of weapons .'"
      ]
     },
     "execution_count": 10,
     "metadata": {},
     "output_type": "execute_result"
    }
   ],
   "source": [
    "example.encode('unicode_escape')"
   ]
  },
  {
   "cell_type": "code",
   "execution_count": 11,
   "id": "829c5cd7",
   "metadata": {},
   "outputs": [],
   "source": [
    "def preprocess_sent(sentence):\n",
    "    return moses_detokenize(dumb_spaces(dumb_quotes(sentence)).split())"
   ]
  },
  {
   "cell_type": "code",
   "execution_count": 12,
   "id": "9b5e47f5",
   "metadata": {},
   "outputs": [
    {
     "data": {
      "text/plain": [
       "\"The nation's largest gun-rights group is taking some Texans to task over their headline-generating demonstrations advocating the legal, open carrying of weapons.\""
      ]
     },
     "execution_count": 12,
     "metadata": {},
     "output_type": "execute_result"
    }
   ],
   "source": [
    "preprocess_sent(example)"
   ]
  },
  {
   "cell_type": "code",
   "execution_count": 13,
   "id": "d904609f",
   "metadata": {},
   "outputs": [],
   "source": [
    "data['Context'] = data['Sentence'].apply(preprocess_sent)"
   ]
  },
  {
   "cell_type": "code",
   "execution_count": 14,
   "id": "f700c762",
   "metadata": {},
   "outputs": [],
   "source": [
    "filtered_data = data.filter(['Article_Id', 'Context', 'Question'], axis=1)"
   ]
  },
  {
   "cell_type": "code",
   "execution_count": 15,
   "id": "c22823b0",
   "metadata": {
    "scrolled": true
   },
   "outputs": [
    {
     "data": {
      "text/html": [
       "<div>\n",
       "<style scoped>\n",
       "    .dataframe tbody tr th:only-of-type {\n",
       "        vertical-align: middle;\n",
       "    }\n",
       "\n",
       "    .dataframe tbody tr th {\n",
       "        vertical-align: top;\n",
       "    }\n",
       "\n",
       "    .dataframe thead th {\n",
       "        text-align: right;\n",
       "    }\n",
       "</style>\n",
       "<table border=\"1\" class=\"dataframe\">\n",
       "  <thead>\n",
       "    <tr style=\"text-align: right;\">\n",
       "      <th></th>\n",
       "      <th>Article_Id</th>\n",
       "      <th>Context</th>\n",
       "      <th>Question</th>\n",
       "    </tr>\n",
       "  </thead>\n",
       "  <tbody>\n",
       "    <tr>\n",
       "      <th>0</th>\n",
       "      <td>1</td>\n",
       "      <td>The nation's largest gun-rights group is takin...</td>\n",
       "      <td>What does \\\"to task\\\" mean?</td>\n",
       "    </tr>\n",
       "    <tr>\n",
       "      <th>1</th>\n",
       "      <td>1</td>\n",
       "      <td>The nation's largest gun-rights group is takin...</td>\n",
       "      <td>What is this group called?</td>\n",
       "    </tr>\n",
       "    <tr>\n",
       "      <th>2</th>\n",
       "      <td>1</td>\n",
       "      <td>The nation's largest gun-rights group is takin...</td>\n",
       "      <td>Which group?</td>\n",
       "    </tr>\n",
       "    <tr>\n",
       "      <th>3</th>\n",
       "      <td>1</td>\n",
       "      <td>The nation's largest gun-rights group is takin...</td>\n",
       "      <td>Why don't you just come out and say the NRA?</td>\n",
       "    </tr>\n",
       "    <tr>\n",
       "      <th>4</th>\n",
       "      <td>1</td>\n",
       "      <td>Officials with the National Rifle Association ...</td>\n",
       "      <td>How many people is a small number?</td>\n",
       "    </tr>\n",
       "    <tr>\n",
       "      <th>...</th>\n",
       "      <td>...</td>\n",
       "      <td>...</td>\n",
       "      <td>...</td>\n",
       "    </tr>\n",
       "    <tr>\n",
       "      <th>19811</th>\n",
       "      <td>1500</td>\n",
       "      <td>John Bennardo is crisscrossing the country to ...</td>\n",
       "      <td>Why are $2 bills seen as so much more desirable?</td>\n",
       "    </tr>\n",
       "    <tr>\n",
       "      <th>19812</th>\n",
       "      <td>1500</td>\n",
       "      <td>John Bennardo is crisscrossing the country to ...</td>\n",
       "      <td>What magic are they referring to?</td>\n",
       "    </tr>\n",
       "    <tr>\n",
       "      <th>19813</th>\n",
       "      <td>1500</td>\n",
       "      <td>\"I think everyone's curious about it,\" he said.</td>\n",
       "      <td>Why is everyone so curious about it?</td>\n",
       "    </tr>\n",
       "    <tr>\n",
       "      <th>19814</th>\n",
       "      <td>1500</td>\n",
       "      <td>\"I think everyone's curious about it,\" he said.</td>\n",
       "      <td>Why do they feel everyone would be curious abo...</td>\n",
       "    </tr>\n",
       "    <tr>\n",
       "      <th>19815</th>\n",
       "      <td>1500</td>\n",
       "      <td>\"I think everyone's curious about it,\" he said.</td>\n",
       "      <td>Was the documentary ever finished?</td>\n",
       "    </tr>\n",
       "  </tbody>\n",
       "</table>\n",
       "<p>19816 rows × 3 columns</p>\n",
       "</div>"
      ],
      "text/plain": [
       "       Article_Id                                            Context  \\\n",
       "0               1  The nation's largest gun-rights group is takin...   \n",
       "1               1  The nation's largest gun-rights group is takin...   \n",
       "2               1  The nation's largest gun-rights group is takin...   \n",
       "3               1  The nation's largest gun-rights group is takin...   \n",
       "4               1  Officials with the National Rifle Association ...   \n",
       "...           ...                                                ...   \n",
       "19811        1500  John Bennardo is crisscrossing the country to ...   \n",
       "19812        1500  John Bennardo is crisscrossing the country to ...   \n",
       "19813        1500    \"I think everyone's curious about it,\" he said.   \n",
       "19814        1500    \"I think everyone's curious about it,\" he said.   \n",
       "19815        1500    \"I think everyone's curious about it,\" he said.   \n",
       "\n",
       "                                                Question  \n",
       "0                            What does \\\"to task\\\" mean?  \n",
       "1                             What is this group called?  \n",
       "2                                           Which group?  \n",
       "3           Why don't you just come out and say the NRA?  \n",
       "4                     How many people is a small number?  \n",
       "...                                                  ...  \n",
       "19811   Why are $2 bills seen as so much more desirable?  \n",
       "19812                  What magic are they referring to?  \n",
       "19813               Why is everyone so curious about it?  \n",
       "19814  Why do they feel everyone would be curious abo...  \n",
       "19815                 Was the documentary ever finished?  \n",
       "\n",
       "[19816 rows x 3 columns]"
      ]
     },
     "execution_count": 15,
     "metadata": {},
     "output_type": "execute_result"
    }
   ],
   "source": [
    "filtered_data"
   ]
  },
  {
   "cell_type": "code",
   "execution_count": 16,
   "id": "ae4bf39d",
   "metadata": {},
   "outputs": [
    {
     "data": {
      "text/plain": [
       "1991"
      ]
     },
     "execution_count": 16,
     "metadata": {},
     "output_type": "execute_result"
    }
   ],
   "source": [
    "article_ids = filtered_data['Article_Id']\n",
    "is_validation = (\n",
    "    (article_ids <= 100) |\n",
    "    (article_ids > 1050) & (article_ids <= 1100))\n",
    "validation = filtered_data[is_validation]\n",
    "len(validation)"
   ]
  },
  {
   "cell_type": "code",
   "execution_count": 17,
   "id": "ea2df248",
   "metadata": {},
   "outputs": [
    {
     "data": {
      "text/plain": [
       "1894"
      ]
     },
     "execution_count": 17,
     "metadata": {},
     "output_type": "execute_result"
    }
   ],
   "source": [
    "is_test = (\n",
    "    (article_ids > 100) & (article_ids <= 150) |\n",
    "    (article_ids > 500) & (article_ids <= 550) |\n",
    "    (article_ids > 1100) & (article_ids <= 1150)\n",
    ")\n",
    "test = filtered_data[is_test]\n",
    "len(test)"
   ]
  },
  {
   "cell_type": "code",
   "execution_count": 18,
   "id": "6d1b90cb",
   "metadata": {},
   "outputs": [
    {
     "data": {
      "text/plain": [
       "15931"
      ]
     },
     "execution_count": 18,
     "metadata": {},
     "output_type": "execute_result"
    }
   ],
   "source": [
    "is_train = (\n",
    "    (article_ids > 150) & (article_ids <= 500) | \n",
    "    (article_ids > 550) & (article_ids <= 1050) | \n",
    "    (article_ids > 1150)\n",
    ")\n",
    "train = filtered_data[is_train]\n",
    "len(train)"
   ]
  },
  {
   "cell_type": "code",
   "execution_count": 19,
   "id": "c94f9790",
   "metadata": {},
   "outputs": [],
   "source": [
    "assert (is_train & is_validation).sum() == 0\n",
    "assert (is_validation & is_test).sum() == 0\n",
    "assert (is_train & is_test).sum() == 0\n",
    "\n",
    "train.to_json('./data/train.json', orient='records', lines=True)\n",
    "test.to_json('./data/test.json', orient='records', lines=True)\n",
    "validation.to_json('./data/validation.json', orient='records', lines=True)"
   ]
  },
  {
   "cell_type": "code",
   "execution_count": null,
   "id": "410f2241",
   "metadata": {},
   "outputs": [],
   "source": []
  }
 ],
 "metadata": {
  "kernelspec": {
   "display_name": "Python 3.9.12 ('ml')",
   "language": "python",
   "name": "python3"
  },
  "language_info": {
   "codemirror_mode": {
    "name": "ipython",
    "version": 3
   },
   "file_extension": ".py",
   "mimetype": "text/x-python",
   "name": "python",
   "nbconvert_exporter": "python",
   "pygments_lexer": "ipython3",
   "version": "3.9.12"
  },
  "vscode": {
   "interpreter": {
    "hash": "1c11ab80b239c55d7734404d74031d350a518f0b013ca895a2cd388b4cd4d618"
   }
  }
 },
 "nbformat": 4,
 "nbformat_minor": 5
}
