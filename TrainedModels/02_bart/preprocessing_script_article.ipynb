{
 "cells": [
  {
   "cell_type": "code",
   "execution_count": 1,
   "metadata": {},
   "outputs": [],
   "source": [
    "from sacremoses import MosesDetokenizer\n",
    "import pandas as pd\n",
    "import numpy as np\n",
    "import csv"
   ]
  },
  {
   "cell_type": "code",
   "execution_count": 2,
   "metadata": {},
   "outputs": [
    {
     "name": "stderr",
     "output_type": "stream",
     "text": [
      "/var/folders/kt/nshm9j555pn7z_t0hxzy3v4h0000gn/T/ipykernel_19368/4041008024.py:1: FutureWarning: The warn_bad_lines argument has been deprecated and will be removed in a future version. Use on_bad_lines in the future.\n",
      "\n",
      "\n",
      "  data = pd.read_csv('data/questions.tsv', sep='\\t', engine='python', warn_bad_lines=True, quoting=csv.QUOTE_NONE)\n"
     ]
    }
   ],
   "source": [
    "data = pd.read_csv('data/questions.tsv', sep='\\t', engine='python', warn_bad_lines=True, quoting=csv.QUOTE_NONE)"
   ]
  },
  {
   "cell_type": "code",
   "execution_count": 3,
   "metadata": {},
   "outputs": [],
   "source": [
    "md = MosesDetokenizer(lang='en')"
   ]
  },
  {
   "cell_type": "code",
   "execution_count": 4,
   "metadata": {},
   "outputs": [],
   "source": [
    "def moses_detokenize(sentence):\n",
    "    return md.detokenize(sentence)\n",
    "\n",
    "def fix_quotes(x):\n",
    "    return (x\n",
    "        .replace('\\u201c', '\"').replace('\\u201d', '\"') # double quotes\n",
    "        .replace('\\u2018', \"'\").replace('\\u2019', \"'\") # single quotes\n",
    "    )\n",
    "\n",
    "def delete_spaces(sentence):\n",
    "    return (sentence\n",
    "            .replace(\" ' \", \"'\")\n",
    "            .replace(\" - \", \"-\"))"
   ]
  },
  {
   "cell_type": "code",
   "execution_count": 5,
   "metadata": {},
   "outputs": [],
   "source": [
    "def preprocess_sent(sentence):\n",
    "    return moses_detokenize(fix_quotes(delete_spaces(sentence)).split())"
   ]
  },
  {
   "cell_type": "code",
   "execution_count": 6,
   "metadata": {},
   "outputs": [],
   "source": [
    "data['Sentence'] = data['Sentence'].apply(preprocess_sent)"
   ]
  },
  {
   "cell_type": "code",
   "execution_count": 7,
   "metadata": {},
   "outputs": [],
   "source": [
    "def get_cumulative_context(sentences): \n",
    "    current_ctx = \"\"\n",
    "    context = []\n",
    "\n",
    "    for sent in sentences.unique():\n",
    "        current_ctx += (sent + \" \")\n",
    "        context.append(current_ctx)\n",
    "    \n",
    "    return context"
   ]
  },
  {
   "cell_type": "code",
   "execution_count": 8,
   "metadata": {},
   "outputs": [],
   "source": [
    "def add_cumulative_context_to_group(article_group): \n",
    "    return article_group.assign(Context=get_cumulative_context(article_group['Sentence']))"
   ]
  },
  {
   "cell_type": "markdown",
   "metadata": {},
   "source": [
    "* `head(1)`: gives the first row of each sentence group\n",
    "* `groupby(\"Article_Id\")`: Access to each article group \n",
    "* `apply(do_thing_to_group)`: apply to each group"
   ]
  },
  {
   "cell_type": "code",
   "execution_count": 9,
   "metadata": {},
   "outputs": [],
   "source": [
    "# data.groupby(['Article_Id', \"Sentence_Id\"]).head(1).groupby(\"Article_Id\").groups"
   ]
  },
  {
   "cell_type": "code",
   "execution_count": 10,
   "metadata": {},
   "outputs": [],
   "source": [
    "df_with_cumulative_context = data.groupby(['Article_Id', \"Sentence_Id\"]).head(1).groupby(\"Article_Id\").apply(add_cumulative_context_to_group)"
   ]
  },
  {
   "cell_type": "code",
   "execution_count": 11,
   "metadata": {},
   "outputs": [
    {
     "data": {
      "text/plain": [
       "\"The nation 's largest gun-rights group is taking some Texans to task over their headline-generating demonstrations advocating the legal, open carrying of weapons. \""
      ]
     },
     "execution_count": 11,
     "metadata": {},
     "output_type": "execute_result"
    }
   ],
   "source": [
    "df_with_cumulative_context['Context'].iloc[0]"
   ]
  },
  {
   "cell_type": "code",
   "execution_count": 12,
   "metadata": {},
   "outputs": [
    {
     "data": {
      "text/html": [
       "<div>\n",
       "<style scoped>\n",
       "    .dataframe tbody tr th:only-of-type {\n",
       "        vertical-align: middle;\n",
       "    }\n",
       "\n",
       "    .dataframe tbody tr th {\n",
       "        vertical-align: top;\n",
       "    }\n",
       "\n",
       "    .dataframe thead th {\n",
       "        text-align: right;\n",
       "    }\n",
       "</style>\n",
       "<table border=\"1\" class=\"dataframe\">\n",
       "  <thead>\n",
       "    <tr style=\"text-align: right;\">\n",
       "      <th></th>\n",
       "      <th>Article_Id</th>\n",
       "      <th>Sentence_Id</th>\n",
       "      <th>Context</th>\n",
       "    </tr>\n",
       "  </thead>\n",
       "  <tbody>\n",
       "    <tr>\n",
       "      <th>0</th>\n",
       "      <td>1</td>\n",
       "      <td>1</td>\n",
       "      <td>The nation 's largest gun-rights group is taki...</td>\n",
       "    </tr>\n",
       "    <tr>\n",
       "      <th>4</th>\n",
       "      <td>1</td>\n",
       "      <td>2</td>\n",
       "      <td>The nation 's largest gun-rights group is taki...</td>\n",
       "    </tr>\n",
       "    <tr>\n",
       "      <th>6</th>\n",
       "      <td>1</td>\n",
       "      <td>3</td>\n",
       "      <td>The nation 's largest gun-rights group is taki...</td>\n",
       "    </tr>\n",
       "    <tr>\n",
       "      <th>9</th>\n",
       "      <td>1</td>\n",
       "      <td>4</td>\n",
       "      <td>The nation 's largest gun-rights group is taki...</td>\n",
       "    </tr>\n",
       "    <tr>\n",
       "      <th>10</th>\n",
       "      <td>1</td>\n",
       "      <td>5</td>\n",
       "      <td>The nation 's largest gun-rights group is taki...</td>\n",
       "    </tr>\n",
       "    <tr>\n",
       "      <th>...</th>\n",
       "      <td>...</td>\n",
       "      <td>...</td>\n",
       "      <td>...</td>\n",
       "    </tr>\n",
       "    <tr>\n",
       "      <th>19804</th>\n",
       "      <td>1500</td>\n",
       "      <td>1</td>\n",
       "      <td>It's the underdog of U. S. currency, the green...</td>\n",
       "    </tr>\n",
       "    <tr>\n",
       "      <th>19807</th>\n",
       "      <td>1500</td>\n",
       "      <td>2</td>\n",
       "      <td>It's the underdog of U. S. currency, the green...</td>\n",
       "    </tr>\n",
       "    <tr>\n",
       "      <th>19809</th>\n",
       "      <td>1500</td>\n",
       "      <td>3</td>\n",
       "      <td>It's the underdog of U. S. currency, the green...</td>\n",
       "    </tr>\n",
       "    <tr>\n",
       "      <th>19811</th>\n",
       "      <td>1500</td>\n",
       "      <td>4</td>\n",
       "      <td>It's the underdog of U. S. currency, the green...</td>\n",
       "    </tr>\n",
       "    <tr>\n",
       "      <th>19813</th>\n",
       "      <td>1500</td>\n",
       "      <td>5</td>\n",
       "      <td>It's the underdog of U. S. currency, the green...</td>\n",
       "    </tr>\n",
       "  </tbody>\n",
       "</table>\n",
       "<p>7099 rows × 3 columns</p>\n",
       "</div>"
      ],
      "text/plain": [
       "       Article_Id  Sentence_Id  \\\n",
       "0               1            1   \n",
       "4               1            2   \n",
       "6               1            3   \n",
       "9               1            4   \n",
       "10              1            5   \n",
       "...           ...          ...   \n",
       "19804        1500            1   \n",
       "19807        1500            2   \n",
       "19809        1500            3   \n",
       "19811        1500            4   \n",
       "19813        1500            5   \n",
       "\n",
       "                                                 Context  \n",
       "0      The nation 's largest gun-rights group is taki...  \n",
       "4      The nation 's largest gun-rights group is taki...  \n",
       "6      The nation 's largest gun-rights group is taki...  \n",
       "9      The nation 's largest gun-rights group is taki...  \n",
       "10     The nation 's largest gun-rights group is taki...  \n",
       "...                                                  ...  \n",
       "19804  It's the underdog of U. S. currency, the green...  \n",
       "19807  It's the underdog of U. S. currency, the green...  \n",
       "19809  It's the underdog of U. S. currency, the green...  \n",
       "19811  It's the underdog of U. S. currency, the green...  \n",
       "19813  It's the underdog of U. S. currency, the green...  \n",
       "\n",
       "[7099 rows x 3 columns]"
      ]
     },
     "execution_count": 12,
     "metadata": {},
     "output_type": "execute_result"
    }
   ],
   "source": [
    "df_with_cumulative_context_filtered = df_with_cumulative_context.filter([\"Article_Id\", \"Sentence_Id\", \"Context\"], axis=1)\n",
    "df_with_cumulative_context_filtered"
   ]
  },
  {
   "cell_type": "markdown",
   "metadata": {},
   "source": [
    "\"Expand\" on the context, based on the `Article_Id` and `Sentence_Id`."
   ]
  },
  {
   "cell_type": "code",
   "execution_count": 13,
   "metadata": {},
   "outputs": [],
   "source": [
    "expand_context_to_all_df = pd.merge(data, df_with_cumulative_context_filtered, on=[\"Article_Id\", \"Sentence_Id\"])\n",
    "# strip last space\n",
    "expand_context_to_all_df[\"Context\"] = expand_context_to_all_df[\"Context\"].apply(lambda x: x.strip())\n",
    "#expand_context_to_all_df[\"Context\"][0]"
   ]
  },
  {
   "cell_type": "code",
   "execution_count": 14,
   "metadata": {},
   "outputs": [],
   "source": [
    "article_ids = expand_context_to_all_df['Article_Id']"
   ]
  },
  {
   "cell_type": "code",
   "execution_count": 15,
   "metadata": {},
   "outputs": [
    {
     "data": {
      "text/plain": [
       "1991"
      ]
     },
     "execution_count": 15,
     "metadata": {},
     "output_type": "execute_result"
    }
   ],
   "source": [
    "is_validation = (\n",
    "    (article_ids <= 100) |\n",
    "    (article_ids > 1050) & (article_ids <= 1100))\n",
    "validation = expand_context_to_all_df[is_validation]\n",
    "len(validation)"
   ]
  },
  {
   "cell_type": "code",
   "execution_count": 16,
   "metadata": {},
   "outputs": [
    {
     "data": {
      "text/plain": [
       "1894"
      ]
     },
     "execution_count": 16,
     "metadata": {},
     "output_type": "execute_result"
    }
   ],
   "source": [
    "is_test = (\n",
    "    (article_ids > 100) & (article_ids <= 150) |\n",
    "    (article_ids > 500) & (article_ids <= 550) |\n",
    "    (article_ids > 1100) & (article_ids <= 1150)\n",
    ")\n",
    "test = expand_context_to_all_df[is_test]\n",
    "len(test)"
   ]
  },
  {
   "cell_type": "code",
   "execution_count": 17,
   "metadata": {},
   "outputs": [
    {
     "data": {
      "text/plain": [
       "15931"
      ]
     },
     "execution_count": 17,
     "metadata": {},
     "output_type": "execute_result"
    }
   ],
   "source": [
    "is_train = (\n",
    "    (article_ids > 150) & (article_ids <= 500) | \n",
    "    (article_ids > 550) & (article_ids <= 1050) | \n",
    "    (article_ids > 1150)\n",
    ")\n",
    "train = expand_context_to_all_df[is_train]\n",
    "len(train)"
   ]
  },
  {
   "cell_type": "code",
   "execution_count": 18,
   "metadata": {},
   "outputs": [],
   "source": [
    "assert (is_train & is_validation).sum() == 0\n",
    "assert (is_validation & is_test).sum() == 0\n",
    "assert (is_train & is_test).sum() == 0\n",
    "\n",
    "train.to_json('./data/data-sentence-context/train-full-context.json', orient='records', lines=True)\n",
    "test.to_json('./data/data-sentence-context/test-full-context.json', orient='records', lines=True)\n",
    "validation.to_json('./data/data-sentence-context/validation-full-context.json', orient='records', lines=True)"
   ]
  }
 ],
 "metadata": {
  "kernelspec": {
   "display_name": "Python 3.9.12 ('ml')",
   "language": "python",
   "name": "python3"
  },
  "language_info": {
   "codemirror_mode": {
    "name": "ipython",
    "version": 3
   },
   "file_extension": ".py",
   "mimetype": "text/x-python",
   "name": "python",
   "nbconvert_exporter": "python",
   "pygments_lexer": "ipython3",
   "version": "3.9.12"
  },
  "orig_nbformat": 4,
  "vscode": {
   "interpreter": {
    "hash": "1c11ab80b239c55d7734404d74031d350a518f0b013ca895a2cd388b4cd4d618"
   }
  }
 },
 "nbformat": 4,
 "nbformat_minor": 2
}
