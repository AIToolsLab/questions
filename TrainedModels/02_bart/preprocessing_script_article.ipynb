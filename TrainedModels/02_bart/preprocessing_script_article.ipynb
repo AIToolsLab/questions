{
 "cells": [
  {
   "cell_type": "code",
   "execution_count": 1,
   "metadata": {},
   "outputs": [],
   "source": [
    "from sacremoses import MosesDetokenizer\n",
    "import pandas as pd\n",
    "import numpy as np\n",
    "import csv"
   ]
  },
  {
   "cell_type": "code",
   "execution_count": 2,
   "metadata": {},
   "outputs": [
    {
     "name": "stderr",
     "output_type": "stream",
     "text": [
      "/var/folders/kt/nshm9j555pn7z_t0hxzy3v4h0000gn/T/ipykernel_16543/4041008024.py:1: FutureWarning: The warn_bad_lines argument has been deprecated and will be removed in a future version. Use on_bad_lines in the future.\n",
      "\n",
      "\n",
      "  data = pd.read_csv('data/questions.tsv', sep='\\t', engine='python', warn_bad_lines=True, quoting=csv.QUOTE_NONE)\n"
     ]
    }
   ],
   "source": [
    "data = pd.read_csv('data/questions.tsv', sep='\\t', engine='python', warn_bad_lines=True, quoting=csv.QUOTE_NONE)"
   ]
  },
  {
   "cell_type": "code",
   "execution_count": 3,
   "metadata": {},
   "outputs": [],
   "source": [
    "md = MosesDetokenizer(lang='en')"
   ]
  },
  {
   "cell_type": "code",
   "execution_count": 4,
   "metadata": {},
   "outputs": [],
   "source": [
    "def moses_detokenize(sentence):\n",
    "    return md.detokenize(sentence)\n",
    "\n",
    "def dumb_quotes(x):\n",
    "    return (x\n",
    "        .replace('\\u201c', '\"').replace('\\u201d', '\"') # double quotes\n",
    "        .replace('\\u2018', \"'\").replace('\\u2019', \"'\") # single quotes\n",
    "    )\n",
    "\n",
    "def dumb_spaces(sentence):\n",
    "    return (sentence\n",
    "            .replace(\" ' \", \"'\")\n",
    "            .replace(\" - \", \"-\"))"
   ]
  },
  {
   "cell_type": "code",
   "execution_count": 5,
   "metadata": {},
   "outputs": [],
   "source": [
    "def preprocess_sent(sentence):\n",
    "    return moses_detokenize(dumb_spaces(dumb_quotes(sentence)).split())"
   ]
  },
  {
   "cell_type": "code",
   "execution_count": 6,
   "metadata": {},
   "outputs": [],
   "source": [
    "data['Sentence'] = data['Sentence'].apply(preprocess_sent)"
   ]
  },
  {
   "cell_type": "code",
   "execution_count": 33,
   "metadata": {},
   "outputs": [],
   "source": [
    "def get_cumulative_context(sentences): \n",
    "    current_ctx = \"\"\n",
    "    context = []\n",
    "\n",
    "    for sent in sentences.unique():\n",
    "        current_ctx += (sent + \" \")\n",
    "        context.append(current_ctx)\n",
    "    \n",
    "    return context"
   ]
  },
  {
   "cell_type": "code",
   "execution_count": 34,
   "metadata": {},
   "outputs": [],
   "source": [
    "def add_cumulative_context_to_group(article_group): \n",
    "    return article_group.assign(Context=get_cumulative_context(article_group['Sentence']))"
   ]
  },
  {
   "cell_type": "markdown",
   "metadata": {},
   "source": [
    "* `head(1)`: gives the first row of each sentence group\n",
    "* `groupby(\"Article_Id\")`: Access to each article group \n",
    "* `apply(do_thing_to_group)`: apply to each group"
   ]
  },
  {
   "cell_type": "code",
   "execution_count": 35,
   "metadata": {},
   "outputs": [],
   "source": [
    "# data.groupby(['Article_Id', \"Sentence_Id\"]).head(1).groupby(\"Article_Id\").groups"
   ]
  },
  {
   "cell_type": "code",
   "execution_count": 36,
   "metadata": {},
   "outputs": [],
   "source": [
    "df_with_cumulative_context = data.groupby(['Article_Id', \"Sentence_Id\"]).head(1).groupby(\"Article_Id\").apply(add_cumulative_context_to_group)"
   ]
  },
  {
   "cell_type": "code",
   "execution_count": 37,
   "metadata": {},
   "outputs": [
    {
     "data": {
      "text/plain": [
       "\"The nation's largest gun-rights group is taking some Texans to task over their headline-generating demonstrations advocating the legal, open carrying of weapons. \""
      ]
     },
     "execution_count": 37,
     "metadata": {},
     "output_type": "execute_result"
    }
   ],
   "source": [
    "df_with_cumulative_context['Context'].iloc[0]"
   ]
  },
  {
   "cell_type": "code",
   "execution_count": 38,
   "metadata": {},
   "outputs": [
    {
     "data": {
      "text/html": [
       "<div>\n",
       "<style scoped>\n",
       "    .dataframe tbody tr th:only-of-type {\n",
       "        vertical-align: middle;\n",
       "    }\n",
       "\n",
       "    .dataframe tbody tr th {\n",
       "        vertical-align: top;\n",
       "    }\n",
       "\n",
       "    .dataframe thead th {\n",
       "        text-align: right;\n",
       "    }\n",
       "</style>\n",
       "<table border=\"1\" class=\"dataframe\">\n",
       "  <thead>\n",
       "    <tr style=\"text-align: right;\">\n",
       "      <th></th>\n",
       "      <th>Article_Id</th>\n",
       "      <th>Sentence_Id</th>\n",
       "      <th>Context</th>\n",
       "    </tr>\n",
       "  </thead>\n",
       "  <tbody>\n",
       "    <tr>\n",
       "      <th>0</th>\n",
       "      <td>1</td>\n",
       "      <td>1</td>\n",
       "      <td>The nation's largest gun-rights group is takin...</td>\n",
       "    </tr>\n",
       "    <tr>\n",
       "      <th>4</th>\n",
       "      <td>1</td>\n",
       "      <td>2</td>\n",
       "      <td>The nation's largest gun-rights group is takin...</td>\n",
       "    </tr>\n",
       "    <tr>\n",
       "      <th>6</th>\n",
       "      <td>1</td>\n",
       "      <td>3</td>\n",
       "      <td>The nation's largest gun-rights group is takin...</td>\n",
       "    </tr>\n",
       "    <tr>\n",
       "      <th>9</th>\n",
       "      <td>1</td>\n",
       "      <td>4</td>\n",
       "      <td>The nation's largest gun-rights group is takin...</td>\n",
       "    </tr>\n",
       "    <tr>\n",
       "      <th>10</th>\n",
       "      <td>1</td>\n",
       "      <td>5</td>\n",
       "      <td>The nation's largest gun-rights group is takin...</td>\n",
       "    </tr>\n",
       "    <tr>\n",
       "      <th>...</th>\n",
       "      <td>...</td>\n",
       "      <td>...</td>\n",
       "      <td>...</td>\n",
       "    </tr>\n",
       "    <tr>\n",
       "      <th>19804</th>\n",
       "      <td>1500</td>\n",
       "      <td>1</td>\n",
       "      <td>It's the underdog of U. S. currency, the green...</td>\n",
       "    </tr>\n",
       "    <tr>\n",
       "      <th>19807</th>\n",
       "      <td>1500</td>\n",
       "      <td>2</td>\n",
       "      <td>It's the underdog of U. S. currency, the green...</td>\n",
       "    </tr>\n",
       "    <tr>\n",
       "      <th>19809</th>\n",
       "      <td>1500</td>\n",
       "      <td>3</td>\n",
       "      <td>It's the underdog of U. S. currency, the green...</td>\n",
       "    </tr>\n",
       "    <tr>\n",
       "      <th>19811</th>\n",
       "      <td>1500</td>\n",
       "      <td>4</td>\n",
       "      <td>It's the underdog of U. S. currency, the green...</td>\n",
       "    </tr>\n",
       "    <tr>\n",
       "      <th>19813</th>\n",
       "      <td>1500</td>\n",
       "      <td>5</td>\n",
       "      <td>It's the underdog of U. S. currency, the green...</td>\n",
       "    </tr>\n",
       "  </tbody>\n",
       "</table>\n",
       "<p>7099 rows × 3 columns</p>\n",
       "</div>"
      ],
      "text/plain": [
       "       Article_Id  Sentence_Id  \\\n",
       "0               1            1   \n",
       "4               1            2   \n",
       "6               1            3   \n",
       "9               1            4   \n",
       "10              1            5   \n",
       "...           ...          ...   \n",
       "19804        1500            1   \n",
       "19807        1500            2   \n",
       "19809        1500            3   \n",
       "19811        1500            4   \n",
       "19813        1500            5   \n",
       "\n",
       "                                                 Context  \n",
       "0      The nation's largest gun-rights group is takin...  \n",
       "4      The nation's largest gun-rights group is takin...  \n",
       "6      The nation's largest gun-rights group is takin...  \n",
       "9      The nation's largest gun-rights group is takin...  \n",
       "10     The nation's largest gun-rights group is takin...  \n",
       "...                                                  ...  \n",
       "19804  It's the underdog of U. S. currency, the green...  \n",
       "19807  It's the underdog of U. S. currency, the green...  \n",
       "19809  It's the underdog of U. S. currency, the green...  \n",
       "19811  It's the underdog of U. S. currency, the green...  \n",
       "19813  It's the underdog of U. S. currency, the green...  \n",
       "\n",
       "[7099 rows x 3 columns]"
      ]
     },
     "execution_count": 38,
     "metadata": {},
     "output_type": "execute_result"
    }
   ],
   "source": [
    "df_with_cumulative_context_filtered = df_with_cumulative_context.filter([\"Article_Id\", \"Sentence_Id\", \"Context\"], axis=1)\n",
    "df_with_cumulative_context_filtered"
   ]
  },
  {
   "cell_type": "markdown",
   "metadata": {},
   "source": [
    "\"Expand\" on the context, based on the `Article_Id` and `Sentence_Id`."
   ]
  },
  {
   "cell_type": "code",
   "execution_count": 39,
   "metadata": {},
   "outputs": [
    {
     "data": {
      "text/html": [
       "<div>\n",
       "<style scoped>\n",
       "    .dataframe tbody tr th:only-of-type {\n",
       "        vertical-align: middle;\n",
       "    }\n",
       "\n",
       "    .dataframe tbody tr th {\n",
       "        vertical-align: top;\n",
       "    }\n",
       "\n",
       "    .dataframe thead th {\n",
       "        text-align: right;\n",
       "    }\n",
       "</style>\n",
       "<table border=\"1\" class=\"dataframe\">\n",
       "  <thead>\n",
       "    <tr style=\"text-align: right;\">\n",
       "      <th></th>\n",
       "      <th>Article_Id</th>\n",
       "      <th>Sentence_Id</th>\n",
       "      <th>Sentence</th>\n",
       "      <th>Span</th>\n",
       "      <th>Question</th>\n",
       "      <th>Span_Start_Position</th>\n",
       "      <th>Span_End_Position</th>\n",
       "      <th>Context</th>\n",
       "    </tr>\n",
       "  </thead>\n",
       "  <tbody>\n",
       "    <tr>\n",
       "      <th>0</th>\n",
       "      <td>1</td>\n",
       "      <td>1</td>\n",
       "      <td>The nation's largest gun-rights group is takin...</td>\n",
       "      <td>to task</td>\n",
       "      <td>What does \\\"to task\\\" mean?</td>\n",
       "      <td>13</td>\n",
       "      <td>15</td>\n",
       "      <td>The nation's largest gun-rights group is takin...</td>\n",
       "    </tr>\n",
       "    <tr>\n",
       "      <th>1</th>\n",
       "      <td>1</td>\n",
       "      <td>1</td>\n",
       "      <td>The nation's largest gun-rights group is takin...</td>\n",
       "      <td>largest gun - rights group</td>\n",
       "      <td>What is this group called?</td>\n",
       "      <td>4</td>\n",
       "      <td>9</td>\n",
       "      <td>The nation's largest gun-rights group is takin...</td>\n",
       "    </tr>\n",
       "    <tr>\n",
       "      <th>2</th>\n",
       "      <td>1</td>\n",
       "      <td>1</td>\n",
       "      <td>The nation's largest gun-rights group is takin...</td>\n",
       "      <td>gun - rights group</td>\n",
       "      <td>Which group?</td>\n",
       "      <td>5</td>\n",
       "      <td>9</td>\n",
       "      <td>The nation's largest gun-rights group is takin...</td>\n",
       "    </tr>\n",
       "    <tr>\n",
       "      <th>3</th>\n",
       "      <td>1</td>\n",
       "      <td>1</td>\n",
       "      <td>The nation's largest gun-rights group is takin...</td>\n",
       "      <td>nation ’ s largest gun - rights group</td>\n",
       "      <td>Why don't you just come out and say the NRA?</td>\n",
       "      <td>1</td>\n",
       "      <td>9</td>\n",
       "      <td>The nation's largest gun-rights group is takin...</td>\n",
       "    </tr>\n",
       "    <tr>\n",
       "      <th>4</th>\n",
       "      <td>1</td>\n",
       "      <td>2</td>\n",
       "      <td>Officials with the National Rifle Association ...</td>\n",
       "      <td>small number</td>\n",
       "      <td>How many people is a small number?</td>\n",
       "      <td>67</td>\n",
       "      <td>69</td>\n",
       "      <td>The nation's largest gun-rights group is takin...</td>\n",
       "    </tr>\n",
       "    <tr>\n",
       "      <th>...</th>\n",
       "      <td>...</td>\n",
       "      <td>...</td>\n",
       "      <td>...</td>\n",
       "      <td>...</td>\n",
       "      <td>...</td>\n",
       "      <td>...</td>\n",
       "      <td>...</td>\n",
       "      <td>...</td>\n",
       "    </tr>\n",
       "    <tr>\n",
       "      <th>19811</th>\n",
       "      <td>1500</td>\n",
       "      <td>4</td>\n",
       "      <td>John Bennardo is crisscrossing the country to ...</td>\n",
       "      <td>the story of the two and its \" magic \"</td>\n",
       "      <td>Why are $2 bills seen as so much more desirable?</td>\n",
       "      <td>14</td>\n",
       "      <td>24</td>\n",
       "      <td>It's the underdog of U. S. currency, the green...</td>\n",
       "    </tr>\n",
       "    <tr>\n",
       "      <th>19812</th>\n",
       "      <td>1500</td>\n",
       "      <td>4</td>\n",
       "      <td>John Bennardo is crisscrossing the country to ...</td>\n",
       "      <td>\" magic \"</td>\n",
       "      <td>What magic are they referring to?</td>\n",
       "      <td>21</td>\n",
       "      <td>24</td>\n",
       "      <td>It's the underdog of U. S. currency, the green...</td>\n",
       "    </tr>\n",
       "    <tr>\n",
       "      <th>19813</th>\n",
       "      <td>1500</td>\n",
       "      <td>5</td>\n",
       "      <td>\"I think everyone's curious about it,\" he said.</td>\n",
       "      <td>everyone ' s curious about it , \"</td>\n",
       "      <td>Why is everyone so curious about it?</td>\n",
       "      <td>3</td>\n",
       "      <td>11</td>\n",
       "      <td>It's the underdog of U. S. currency, the green...</td>\n",
       "    </tr>\n",
       "    <tr>\n",
       "      <th>19814</th>\n",
       "      <td>1500</td>\n",
       "      <td>5</td>\n",
       "      <td>\"I think everyone's curious about it,\" he said.</td>\n",
       "      <td>everyone ' s curious</td>\n",
       "      <td>Why do they feel everyone would be curious abo...</td>\n",
       "      <td>3</td>\n",
       "      <td>7</td>\n",
       "      <td>It's the underdog of U. S. currency, the green...</td>\n",
       "    </tr>\n",
       "    <tr>\n",
       "      <th>19815</th>\n",
       "      <td>1500</td>\n",
       "      <td>5</td>\n",
       "      <td>\"I think everyone's curious about it,\" he said.</td>\n",
       "      <td>curious</td>\n",
       "      <td>Was the documentary ever finished?</td>\n",
       "      <td>6</td>\n",
       "      <td>7</td>\n",
       "      <td>It's the underdog of U. S. currency, the green...</td>\n",
       "    </tr>\n",
       "  </tbody>\n",
       "</table>\n",
       "<p>19816 rows × 8 columns</p>\n",
       "</div>"
      ],
      "text/plain": [
       "       Article_Id  Sentence_Id  \\\n",
       "0               1            1   \n",
       "1               1            1   \n",
       "2               1            1   \n",
       "3               1            1   \n",
       "4               1            2   \n",
       "...           ...          ...   \n",
       "19811        1500            4   \n",
       "19812        1500            4   \n",
       "19813        1500            5   \n",
       "19814        1500            5   \n",
       "19815        1500            5   \n",
       "\n",
       "                                                Sentence  \\\n",
       "0      The nation's largest gun-rights group is takin...   \n",
       "1      The nation's largest gun-rights group is takin...   \n",
       "2      The nation's largest gun-rights group is takin...   \n",
       "3      The nation's largest gun-rights group is takin...   \n",
       "4      Officials with the National Rifle Association ...   \n",
       "...                                                  ...   \n",
       "19811  John Bennardo is crisscrossing the country to ...   \n",
       "19812  John Bennardo is crisscrossing the country to ...   \n",
       "19813    \"I think everyone's curious about it,\" he said.   \n",
       "19814    \"I think everyone's curious about it,\" he said.   \n",
       "19815    \"I think everyone's curious about it,\" he said.   \n",
       "\n",
       "                                         Span  \\\n",
       "0                                     to task   \n",
       "1                  largest gun - rights group   \n",
       "2                          gun - rights group   \n",
       "3       nation ’ s largest gun - rights group   \n",
       "4                                small number   \n",
       "...                                       ...   \n",
       "19811  the story of the two and its \" magic \"   \n",
       "19812                               \" magic \"   \n",
       "19813       everyone ' s curious about it , \"   \n",
       "19814                    everyone ' s curious   \n",
       "19815                                 curious   \n",
       "\n",
       "                                                Question  Span_Start_Position  \\\n",
       "0                            What does \\\"to task\\\" mean?                   13   \n",
       "1                             What is this group called?                    4   \n",
       "2                                           Which group?                    5   \n",
       "3           Why don't you just come out and say the NRA?                    1   \n",
       "4                     How many people is a small number?                   67   \n",
       "...                                                  ...                  ...   \n",
       "19811   Why are $2 bills seen as so much more desirable?                   14   \n",
       "19812                  What magic are they referring to?                   21   \n",
       "19813               Why is everyone so curious about it?                    3   \n",
       "19814  Why do they feel everyone would be curious abo...                    3   \n",
       "19815                 Was the documentary ever finished?                    6   \n",
       "\n",
       "       Span_End_Position                                            Context  \n",
       "0                     15  The nation's largest gun-rights group is takin...  \n",
       "1                      9  The nation's largest gun-rights group is takin...  \n",
       "2                      9  The nation's largest gun-rights group is takin...  \n",
       "3                      9  The nation's largest gun-rights group is takin...  \n",
       "4                     69  The nation's largest gun-rights group is takin...  \n",
       "...                  ...                                                ...  \n",
       "19811                 24  It's the underdog of U. S. currency, the green...  \n",
       "19812                 24  It's the underdog of U. S. currency, the green...  \n",
       "19813                 11  It's the underdog of U. S. currency, the green...  \n",
       "19814                  7  It's the underdog of U. S. currency, the green...  \n",
       "19815                  7  It's the underdog of U. S. currency, the green...  \n",
       "\n",
       "[19816 rows x 8 columns]"
      ]
     },
     "execution_count": 39,
     "metadata": {},
     "output_type": "execute_result"
    }
   ],
   "source": [
    "expand_context_to_all_df = pd.merge(data, df_with_cumulative_context_filtered, on=[\"Article_Id\", \"Sentence_Id\"])\n",
    "expand_context_to_all_df"
   ]
  },
  {
   "cell_type": "code",
   "execution_count": 40,
   "metadata": {},
   "outputs": [],
   "source": [
    "article_ids = expand_context_to_all_df['Article_Id']"
   ]
  },
  {
   "cell_type": "code",
   "execution_count": 32,
   "metadata": {},
   "outputs": [],
   "source": [
    "is_validation = (\n",
    "    (article_ids <= 100) |\n",
    "    (article_ids > 1050) & (article_ids <= 1100))\n",
    "validation = expand_context_to_all_df[is_validation]\n",
    "len(validation)"
   ]
  },
  {
   "cell_type": "code",
   "execution_count": null,
   "metadata": {},
   "outputs": [],
   "source": [
    "is_test = (\n",
    "    (article_ids > 100) & (article_ids <= 150) |\n",
    "    (article_ids > 500) & (article_ids <= 550) |\n",
    "    (article_ids > 1100) & (article_ids <= 1150)\n",
    ")\n",
    "test = expand_context_to_all_df[is_test]\n",
    "len(test)"
   ]
  },
  {
   "cell_type": "code",
   "execution_count": null,
   "metadata": {},
   "outputs": [],
   "source": [
    "is_train = (\n",
    "    (article_ids > 150) & (article_ids <= 500) | \n",
    "    (article_ids > 550) & (article_ids <= 1050) | \n",
    "    (article_ids > 1150)\n",
    ")\n",
    "train = expand_context_to_all_df[is_train]\n",
    "len(train)"
   ]
  },
  {
   "cell_type": "code",
   "execution_count": null,
   "metadata": {},
   "outputs": [],
   "source": [
    "assert (is_train & is_validation).sum() == 0\n",
    "assert (is_validation & is_test).sum() == 0\n",
    "assert (is_train & is_test).sum() == 0\n",
    "\n",
    "train.to_json('./data/train-full-context.json', orient='records', lines=True)\n",
    "test.to_json('./data/test-full-context.json', orient='records', lines=True)\n",
    "validation.to_json('./data/validation-full-context.json', orient='records', lines=True)"
   ]
  }
 ],
 "metadata": {
  "kernelspec": {
   "display_name": "Python 3.9.12 ('ml')",
   "language": "python",
   "name": "python3"
  },
  "language_info": {
   "codemirror_mode": {
    "name": "ipython",
    "version": 3
   },
   "file_extension": ".py",
   "mimetype": "text/x-python",
   "name": "python",
   "nbconvert_exporter": "python",
   "pygments_lexer": "ipython3",
   "version": "3.9.12"
  },
  "orig_nbformat": 4,
  "vscode": {
   "interpreter": {
    "hash": "1c11ab80b239c55d7734404d74031d350a518f0b013ca895a2cd388b4cd4d618"
   }
  }
 },
 "nbformat": 4,
 "nbformat_minor": 2
}
